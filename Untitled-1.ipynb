{
 "cells": [
  {
   "cell_type": "markdown",
   "metadata": {},
   "source": []
  },
  {
   "cell_type": "code",
   "execution_count": null,
   "metadata": {},
   "outputs": [
    {
     "name": "stdout",
     "output_type": "stream",
     "text": [
      "Initial start_time: 5, end_time: 6, curve: [0. 0. 0. 0. 0. 1. 3. 0. 0. 0.]\n",
      "Updated start_time: 1, end_time: 2, curve: [0. 1. 3. 0. 0. 0. 0. 0. 0. 0.]\n"
     ]
    }
   ],
   "source": [
    "import numpy as np\n",
    "task_data = {\n",
    "    '0':\n",
    "            {'before_start_time':5, #从0开始\n",
    "            'run_time':2,\n",
    "            'cpu_used_detail':np.array([1,3])}\n",
    "    }\n",
    "\n",
    "class IntervalVar:\n",
    "    def __init__(self, task, planning_time):\n",
    "        self.duration = task['run_time']  # 固定的持续时间\n",
    "        self._start_time = task['before_start_time']\n",
    "        self._end_time = self._start_time + self.duration - 1\n",
    "        self.resource_used = task['cpu_used_detail'] # 运行时间内的资源需求\n",
    "        self.T = planning_time\n",
    "        self._curve = self.compute_curve(self._start_time, self._end_time)\n",
    "\n",
    "    @property\n",
    "    def start_time(self):\n",
    "        return self._start_time\n",
    "\n",
    "    @property\n",
    "    def end_time(self):\n",
    "        return self._end_time\n",
    "    \n",
    "    @property\n",
    "    def curve(self):\n",
    "        return self._curve\n",
    "    \n",
    "    @property\n",
    "    def curve(self):\n",
    "        return self._curve\n",
    "\n",
    "    @start_time.setter\n",
    "    def start_time(self, value):\n",
    "        self._start_time = value\n",
    "        self._end_time = self._start_time + self.duration - 1 # 关联自动更新 end_time\n",
    "        self._curve = self.compute_curve(self._start_time, self._end_time)\n",
    "\n",
    "    def compute_curve(self,s,e):\n",
    "        curve = np.zeros(self.T)\n",
    "        if e<s: #出现跨周期的情况\n",
    "            e += self.T #1440\n",
    "        if e <= self.T-1 : #在周期内\n",
    "            curve[s:e+1] += self.resource_used\n",
    "        elif s > self.T-1:\n",
    "            curve[s-self.T:e-self.T+1] += self.resource_used\n",
    "        else: \n",
    "            curve[s:self.T] += self.resource_used[:self.T-s]\n",
    "            curve[0:self.T-s] += self.resource_used[self.T-s:]\n",
    "        return curve\n",
    "\n",
    "# 示例\n",
    "interval = IntervalVar(task_data['0'],10)\n",
    "print(f\"Initial start_time: {interval.start_time}, end_time: {interval.end_time}, curve: {interval.curve}\")\n",
    "\n",
    "# 修改 start_time\n",
    "interval.start_time = 1\n",
    "print(f\"Updated start_time: {interval.start_time}, end_time: {interval.end_time}, curve: {interval.curve}\")"
   ]
  },
  {
   "cell_type": "code",
   "execution_count": 36,
   "metadata": {},
   "outputs": [],
   "source": [
    "import numpy as np\n",
    "\n",
    "class Subproblem_Quad_IP():\n",
    "    def __init__(self, obj_coeff, constraints_coeff):\n",
    "        self.n_dim = len(obj_coeff)\n",
    "        self.obj_coeff = obj_coeff\n",
    "        self.constraints_coeff = constraints_coeff\n",
    "        \n",
    "    def compute_obj(self, lamd):\n",
    "        self.relaxed_obj_coeff = []\n",
    "        for i in range(self.n_dim):\n",
    "            self.relaxed_obj_coeff.append({'quad': obj_coeff[i], 'linear': (lamd * constraints_coeff[:,i]).sum()})\n",
    "            \n",
    "    def solve(self):\n",
    "        self.opt_solution = np.zeros(self.n_dim)\n",
    "        for i in range(self.n_dim):\n",
    "            coeff = self.relaxed_obj_coeff[i]\n",
    "            self.opt_solution[i] = round(-1 * coeff['linear']/ (2 *coeff['quad']))\n",
    "        self.opt_solution = np.maximum(0, self.opt_solution)\n",
    "    \n",
    "    def solve_surrogate(self, dualproblem):\n",
    "        self.compute_costfun(dualproblem)\n",
    "        for i in range(self.n_dim):\n",
    "            coeff = self.relaxed_obj_coeff[i]\n",
    "            self.opt_solution[i] = round(-1 * coeff['linear'] / (2 *coeff['quad']))\n",
    "            new_obj_value \n",
    "    \n",
    "    def compute_costfun(self, dualproblem):\n",
    "        costfun_orig = np.dot((self.opt_solution * self.opt_solution).T, obj_coeff)\n",
    "        cost_constraints = 0\n",
    "        for i in range(len(dualproblem.lamd)):\n",
    "            cost_constraints += self.lamd[i] * (np.dot(self.opt_solution.T, self.constraints_coeff[i,:]) - rhs[i])\n",
    "        return costfun_orig + cost_constraints\n",
    "\n",
    "    def compute_origin_cost(self):\n",
    "        origin_cost = np.dot((self.opt_solution * self.opt_solution).T, obj_coeff)\n",
    "\n",
    "        return origin_cost    \n",
    "\n",
    "    \n",
    "    def report(self, i):\n",
    "        print(\"iteration times:\", i)\n",
    "        print(\"current solution:\", self.opt_solution)\n",
    "\n",
    "\n",
    "class Dual_Problem():\n",
    "    def __init__(self, n_constraints):\n",
    "        self.lamd = np.zeros(n_constraints)\n",
    "        self.m, self.r, self.alpha = 10, 0.01, 1.0\n",
    "        self.step_init, self.step, self.iteration_time = 0.0, 0.0, 0\n",
    "        self.subgradients_init = np.zeros(n_constraints)\n",
    "        self.subgradients = np.zeros(n_constraints)\n",
    "        self.subg_norm_iterations, self.step_iterations, self.costfun_iterations = [], [], []\n",
    "    \n",
    "    def compute_subgradients(self, subproblem_qip):\n",
    "        for i in range(len(self.lamd)):\n",
    "            self.subgradients[i] = np.dot(subproblem_qip.opt_solution.T, subproblem_qip.constraints_coeff[i,:]) - rhs[i]\n",
    "        if self.iteration_time == 0:\n",
    "            self.subgradients_init = self.subgradients.copy()\n",
    "                 \n",
    "    def compute_stepsize(self, subproblem_qip):\n",
    "        if self.iteration_time == 0:\n",
    "            self.step_init = (417 - self.compute_costfun(subproblem_qip))/ np.linalg.norm(self.subgradients_init)**2\n",
    "        else:\n",
    "            p = 1 - 1/(self.iteration_time ** self.r)\n",
    "            self.alpha = self.alpha * (1 - 1/(self.m * self.iteration_time ** p))\n",
    "            if np.linalg.norm(self.subgradients) != 0:\n",
    "                self.step = self.alpha * self.step_init * np.linalg.norm(self.subgradients_init) / np.linalg.norm(self.subgradients)\n",
    "            else:\n",
    "                self.step = 0\n",
    "                print(\"subgradients = 0\")\n",
    "        self.step_iterations.append(self.step)\n",
    "        \n",
    "    def compute_stepsize_simple(self, subproblem_qip):\n",
    "        self.step = (417 - self.compute_costfun(subproblem_qip))/ np.linalg.norm(self.subgradients)**2\n",
    "        self.step_iterations.append(self.step)\n",
    "        if self.iteration_time == 0:\n",
    "            self.step_init = self.step\n",
    "        \n",
    "    def update_lamd(self):\n",
    "        if self.iteration_time == 0:\n",
    "            self.lamd = self.lamd + self.step_init * self.subgradients_init\n",
    "        else:\n",
    "            self.lamd = self.lamd + self.step * self.subgradients\n",
    "        self.lamd = np.maximum(self.lamd, 0)\n",
    "        self.iteration_time += 1\n",
    "        \n",
    "    def compute_costfun(self, subproblem):\n",
    "        costfun_orig = np.dot((subproblem.opt_solution * subproblem.opt_solution).T, obj_coeff)\n",
    "        cost_constraints = 0\n",
    "        for i in range(len(self.lamd)):\n",
    "            cost_constraints += self.lamd[i] * (np.dot(subproblem.opt_solution.T, subproblem.constraints_coeff[i,:]) - rhs[i])\n",
    "        return costfun_orig + cost_constraints    \n",
    "    \n",
    "\n",
    "\n",
    "    def report(self, subproblem):\n",
    "        print(\"subgradients:\", self.subgradients)\n",
    "        print(\"lamd: \", self.lamd)\n",
    "        print(\"step:\", self.step, \"origin cost function \" , subproblem.compute_origin_cost() ,\"  dual problem cost function:\", self.compute_costfun(subproblem))\n",
    "        print(\"\")"
   ]
  },
  {
   "cell_type": "code",
   "execution_count": 37,
   "metadata": {},
   "outputs": [
    {
     "name": "stdout",
     "output_type": "stream",
     "text": [
      "the dimension of decision variables: 6\n",
      "coefficients of objective function: [0.5 0.1 0.5 0.1 0.5 0.1]\n",
      "coefficients of constraints: [[-1.   0.2 -1.   0.2 -1.   0.2]\n",
      " [-5.   1.  -5.   1.  -5.   1. ]]\n",
      "relaxed problem objective coefficients: [{'quad': 0.5, 'linear': 0.0}, {'quad': 0.1, 'linear': 0.0}, {'quad': 0.5, 'linear': 0.0}, {'quad': 0.1, 'linear': 0.0}, {'quad': 0.5, 'linear': 0.0}, {'quad': 0.1, 'linear': 0.0}]\n",
      "optimal solution: [0. 0. 0. 0. 0. 0.]\n"
     ]
    }
   ],
   "source": [
    "n_constraints = 2\n",
    "lamd = np.zeros(n_constraints)\n",
    "obj_coeff = np.array([0.5, 0.1, 0.5, 0.1, 0.5, 0.1])\n",
    "constraints_coeff = np.array([[-1, 0.2, -1, 0.2, -1, 0.2], [-5, 1, -5, 1, -5, 1]])\n",
    "rhs = [-48, -250]\n",
    "subproblem = Subproblem_Quad_IP(obj_coeff, constraints_coeff)\n",
    "subproblem.compute_obj(lamd)\n",
    "print(\"the dimension of decision variables:\", subproblem.n_dim)\n",
    "print(\"coefficients of objective function:\", subproblem.obj_coeff)\n",
    "print(\"coefficients of constraints:\", subproblem.constraints_coeff)\n",
    "print(\"relaxed problem objective coefficients:\", subproblem.relaxed_obj_coeff)\n",
    "subproblem.solve()\n",
    "print(\"optimal solution:\", subproblem.opt_solution)"
   ]
  },
  {
   "cell_type": "code",
   "execution_count": 38,
   "metadata": {},
   "outputs": [
    {
     "name": "stdout",
     "output_type": "stream",
     "text": [
      "subgradients =  [ 48. 250.]\n",
      "step size =  0.0\n",
      "the cost function of dual problem: 0.0\n",
      "lamd =  [0.30886982 1.60869699]\n"
     ]
    }
   ],
   "source": [
    "dualproblem = Dual_Problem(n_constraints)\n",
    "dualproblem.compute_subgradients(subproblem)\n",
    "print(\"subgradients = \", dualproblem.subgradients_init)\n",
    "dualproblem.compute_stepsize(subproblem)\n",
    "print(\"step size = \", dualproblem.step)\n",
    "print(\"the cost function of dual problem:\", dualproblem.compute_costfun(subproblem))\n",
    "dualproblem.update_lamd()\n",
    "print(\"lamd = \", dualproblem.lamd)"
   ]
  },
  {
   "cell_type": "code",
   "execution_count": 39,
   "metadata": {},
   "outputs": [
    {
     "name": "stdout",
     "output_type": "stream",
     "text": [
      "iteration times: 0\n",
      "current solution: [8. 0. 8. 0. 8. 0.]\n",
      "subgradients: [ 24. 130.]\n",
      "lamd:  [0.57652021 3.05846994]\n",
      "step: 0.011152099606251643 origin cost function  96.0   dual problem cost function: 507.4375776889173\n",
      "\n",
      "iteration times: 1\n",
      "current solution: [16.  0. 16.  0. 16.  0.]\n",
      "subgradients: [ 0. 10.]\n",
      "lamd:  [0.57652021 4.38601905]\n",
      "step: 0.13275491057053726 origin cost function  384.0   dual problem cost function: 427.860190485308\n",
      "\n",
      "iteration times: 2\n",
      "current solution: [23.  0. 23.  0. 23.  0.]\n",
      "subgradients: [-21. -95.]\n",
      "lamd:  [0.3182915  3.21784154]\n",
      "step: 0.012296605353891887 origin cost function  793.5   dual problem cost function: 481.1209321881044\n",
      "\n",
      "iteration times: 3\n",
      "current solution: [16.  0. 16.  0. 16.  0.]\n",
      "subgradients: [ 0. 10.]\n",
      "lamd:  [0.3182915 4.2968436]\n",
      "step: 0.10790020647193525 origin cost function  384.0   dual problem cost function: 426.96843604630425\n",
      "\n",
      "iteration times: 4\n",
      "current solution: [22.  0. 22.  0. 22.  0.]\n",
      "subgradients: [-18. -80.]\n",
      "lamd:  [0.10452194 3.34675668]\n",
      "step: 0.011876086557484162 origin cost function  726.0   dual problem cost function: 456.378070624652\n",
      "\n",
      "iteration times: 5\n",
      "current solution: [17.  0. 17.  0. 17.  0.]\n",
      "subgradients: [-3. -5.]\n",
      "lamd:  [0.         2.59258738]\n",
      "step: 0.1508338603591606 origin cost function  433.5   dual problem cost function: 420.5370631088206\n",
      "\n",
      "iteration times: 6\n",
      "current solution: [13.  0. 13.  0. 13.  0.]\n",
      "subgradients: [ 9. 55.]\n",
      "lamd:  [0.12834975 3.37694693]\n",
      "step: 0.014261082778073923 origin cost function  253.5   dual problem cost function: 440.3872289116715\n",
      "\n",
      "iteration times: 7\n",
      "current solution: [17.  0. 17.  0. 17.  0.]\n",
      "subgradients: [-3. -5.]\n",
      "lamd:  [0.         2.76071661]\n",
      "step: 0.12324606470114713 origin cost function  433.5   dual problem cost function: 419.6964169623789\n",
      "\n",
      "iteration times: 8\n",
      "current solution: [14.  0. 14.  0. 14.  0.]\n",
      "subgradients: [ 6. 40.]\n",
      "lamd:  [0.09644038 3.40365247]\n",
      "step: 0.0160733966834144 origin cost function  294.0   dual problem cost function: 430.7247412750347\n",
      "\n",
      "iteration times: 9\n",
      "current solution: [17.  0. 17.  0. 17.  0.]\n",
      "subgradients: [-3. -5.]\n",
      "lamd:  [0.         2.89907314]\n",
      "step: 0.10091586769338569 origin cost function  433.5   dual problem cost function: 419.00463431803064\n",
      "\n",
      "iteration times: 10\n",
      "current solution: [14.  0. 14.  0. 14.  0.]\n",
      "subgradients: [ 6. 40.]\n",
      "lamd:  [0.07904203 3.42601998]\n",
      "step: 0.01317367103203818 origin cost function  294.0   dual problem cost function: 431.51505126416913\n",
      "\n",
      "iteration times: 11\n",
      "current solution: [17.  0. 17.  0. 17.  0.]\n",
      "subgradients: [-3. -5.]\n",
      "lamd:  [0.         3.01209928]\n",
      "step: 0.08278413988511067 origin cost function  433.5   dual problem cost function: 418.4395036087508\n",
      "\n",
      "iteration times: 12\n",
      "current solution: [15.  0. 15.  0. 15.  0.]\n",
      "subgradients: [ 3. 25.]\n",
      "lamd:  [0.05212306 3.44645807]\n",
      "step: 0.017374351796285697 origin cost function  337.5   dual problem cost function: 423.8178209950911\n",
      "\n",
      "iteration times: 13\n",
      "current solution: [17.  0. 17.  0. 17.  0.]\n",
      "subgradients: [-3. -5.]\n",
      "lamd:  [0.         3.10634767]\n",
      "step: 0.0680220806933682 origin cost function  433.5   dual problem cost function: 417.9682616515493\n",
      "\n",
      "iteration times: 14\n",
      "current solution: [16.  0. 16.  0. 16.  0.]\n",
      "subgradients: [ 0. 10.]\n",
      "lamd:  [0.         3.46608614]\n",
      "step: 0.035973847239638305 origin cost function  384.0   dual problem cost function: 418.6608614208652\n",
      "\n",
      "iteration times: 15\n",
      "current solution: [17.  0. 17.  0. 17.  0.]\n",
      "subgradients: [-3. -5.]\n",
      "lamd:  [0.         3.18620799]\n",
      "step: 0.05597563104653451 origin cost function  433.5   dual problem cost function: 417.5689600657307\n",
      "\n",
      "iteration times: 16\n",
      "current solution: [16.  0. 16.  0. 16.  0.]\n",
      "subgradients: [ 0. 10.]\n",
      "lamd:  [0.         3.48244371]\n",
      "step: 0.029623571915969687 origin cost function  384.0   dual problem cost function: 418.8244370601355\n",
      "\n",
      "iteration times: 17\n",
      "current solution: [17.  0. 17.  0. 17.  0.]\n",
      "subgradients: [-3. -5.]\n",
      "lamd:  [0.         3.25181771]\n",
      "step: 0.04612519842114796 origin cost function  433.5   dual problem cost function: 417.240911430461\n",
      "\n",
      "iteration times: 18\n",
      "current solution: [16.  0. 16.  0. 16.  0.]\n",
      "subgradients: [ 0. 10.]\n",
      "lamd:  [0.         3.49607849]\n",
      "step: 0.024426077611069456 origin cost function  384.0   dual problem cost function: 418.96078490018505\n",
      "\n",
      "iteration times: 19\n",
      "current solution: [17.  0. 17.  0. 17.  0.]\n",
      "subgradients: [-3. -5.]\n",
      "lamd:  [0.         3.30579946]\n",
      "step: 0.03805580537959983 origin cost function  433.5   dual problem cost function: 416.9710026843975\n",
      "\n",
      "iteration times: 20\n",
      "current solution: [17.  0. 17.  0. 17.  0.]\n",
      "subgradients: [-3. -5.]\n",
      "lamd:  [0.         3.13288813]\n",
      "step: 0.03458226563279269 origin cost function  433.5   dual problem cost function: 417.8355593252173\n",
      "\n",
      "iteration times: 21\n",
      "current solution: [16.  0. 16.  0. 16.  0.]\n",
      "subgradients: [ 0. 10.]\n",
      "lamd:  [0.         3.31618157]\n",
      "step: 0.018329343969610064 origin cost function  384.0   dual problem cost function: 417.16181574652643\n",
      "\n",
      "iteration times: 22\n",
      "current solution: [17.  0. 17.  0. 17.  0.]\n",
      "subgradients: [-3. -5.]\n",
      "lamd:  [0.         3.17327609]\n",
      "step: 0.028581097597151838 origin cost function  433.5   dual problem cost function: 417.6336195666656\n",
      "\n",
      "iteration times: 23\n",
      "current solution: [16.  0. 16.  0. 16.  0.]\n",
      "subgradients: [ 0. 10.]\n",
      "lamd:  [0.         3.32484266]\n",
      "step: 0.015156657047077884 origin cost function  384.0   dual problem cost function: 417.2484265713766\n",
      "\n",
      "iteration times: 24\n",
      "current solution: [17.  0. 17.  0. 17.  0.]\n",
      "subgradients: [-3. -5.]\n",
      "lamd:  [0.         3.20661227]\n",
      "step: 0.023646077157579187 origin cost function  433.5   dual problem cost function: 417.4669386432512\n",
      "\n",
      "iteration times: 25\n",
      "current solution: [16.  0. 16.  0. 16.  0.]\n",
      "subgradients: [ 0. 10.]\n",
      "lamd:  [0.         3.33207088]\n",
      "step: 0.012545860395682566 origin cost function  384.0   dual problem cost function: 417.3207087530659\n",
      "\n",
      "iteration times: 26\n",
      "current solution: [17.  0. 17.  0. 17.  0.]\n",
      "subgradients: [-3. -5.]\n",
      "lamd:  [0.         3.23415874]\n",
      "step: 0.01958242702638845 origin cost function  433.5   dual problem cost function: 417.3292062991268\n",
      "\n",
      "iteration times: 27\n",
      "current solution: [16.  0. 16.  0. 16.  0.]\n",
      "subgradients: [ 0. 10.]\n",
      "lamd:  [0.        3.3381058]\n",
      "step: 0.01039470582336909 origin cost function  384.0   dual problem cost function: 417.3810579840834\n",
      "\n",
      "iteration times: 28\n",
      "current solution: [17.  0. 17.  0. 17.  0.]\n",
      "subgradients: [-3. -5.]\n",
      "lamd:  [0.         3.25694489]\n",
      "step: 0.016232182327586744 origin cost function  433.5   dual problem cost function: 417.21527556614797\n",
      "\n",
      "iteration times: 29\n",
      "current solution: [16.  0. 16.  0. 16.  0.]\n",
      "subgradients: [ 0. 10.]\n",
      "lamd:  [0.         3.34314659]\n",
      "step: 0.008620170785293467 origin cost function  384.0   dual problem cost function: 417.4314659462334\n",
      "\n",
      "optimal solution =  [16.  0. 16.  0. 16.  0.]\n",
      "subgradients =  [ 0. 10.]\n"
     ]
    }
   ],
   "source": [
    "max_itertimes = 30\n",
    "for i in range(max_itertimes):\n",
    "    subproblem.compute_obj(dualproblem.lamd)\n",
    "    subproblem.solve()\n",
    "    subproblem.report(i)\n",
    "    subproblem.compute_origin_cost()\n",
    "    dualproblem.compute_subgradients(subproblem)\n",
    "    dualproblem.compute_stepsize(subproblem)\n",
    "    dualproblem.update_lamd()\n",
    "    dualproblem.report(subproblem)\n",
    "\n",
    "print(\"optimal solution = \", subproblem.opt_solution)\n",
    "print(\"subgradients = \", dualproblem.subgradients)"
   ]
  },
  {
   "cell_type": "code",
   "execution_count": null,
   "metadata": {},
   "outputs": [],
   "source": []
  },
  {
   "cell_type": "code",
   "execution_count": null,
   "metadata": {},
   "outputs": [],
   "source": []
  },
  {
   "cell_type": "code",
   "execution_count": null,
   "metadata": {},
   "outputs": [],
   "source": []
  },
  {
   "cell_type": "code",
   "execution_count": null,
   "metadata": {},
   "outputs": [],
   "source": []
  },
  {
   "cell_type": "code",
   "execution_count": null,
   "metadata": {},
   "outputs": [
    {
     "name": "stdout",
     "output_type": "stream",
     "text": [
      "0.0\n",
      "1733840983.9048593\n"
     ]
    }
   ],
   "source": [
    "import time\n",
    "t1 = time.time()a\n",
    "t2 = time.time()\n",
    "print(t2-t1)\n",
    "print(t1)"
   ]
  },
  {
   "cell_type": "code",
   "execution_count": 2,
   "metadata": {},
   "outputs": [
    {
     "name": "stdout",
     "output_type": "stream",
     "text": [
      "Method 1 Time: 39.06018829999999\n",
      "Method 2 Time: 30.474580599999996\n"
     ]
    }
   ],
   "source": [
    "import timeit\n",
    "\n",
    "# 假设 tw 和 task_cost 已经定义好了\n",
    "tw = list(range(10000))\n",
    "task_cost = {i: i for i in tw}\n",
    "\n",
    "# 方法 1：逐步累加\n",
    "def method_1():\n",
    "    sum_tw_task_cost = 0\n",
    "    for t in tw:\n",
    "        sum_tw_task_cost += task_cost[t]\n",
    "    return sum_tw_task_cost\n",
    "\n",
    "# 方法 2：列表推导式\n",
    "def method_2():\n",
    "    return sum([task_cost[t] for t in tw])\n",
    "\n",
    "# 测试时间\n",
    "time_method_1 = timeit.timeit(method_1, number=50000)\n",
    "time_method_2 = timeit.timeit(method_2, number=50000)\n",
    "\n",
    "print(f\"Method 1 Time: {time_method_1}\")\n",
    "print(f\"Method 2 Time: {time_method_2}\")"
   ]
  },
  {
   "cell_type": "code",
   "execution_count": 15,
   "metadata": {},
   "outputs": [
    {
     "name": "stdout",
     "output_type": "stream",
     "text": [
      "[ 1  2  3 10 11 12]\n"
     ]
    }
   ],
   "source": [
    "import numpy as np\n",
    "\n",
    "# 创建一个一维 NumPy 数组\n",
    "arr = np.array([1, 2, 3, 4, 5, 6, 7, 8, 9, 10, 11, 12])\n",
    "\n",
    "# 选择索引区间 [3, 9) 之外的元素\n",
    "# 索引区间 [3, 9) 包括索引 3 到 8 的元素\n",
    "# 我们使用 ~ 操作符来选择这个区间之外的元素\n",
    "complement_slice = arr[~((arr >= 4) & (arr <= 9))]\n",
    "\n",
    "print(complement_slice)  # 输出：[ 1  2  3  9 10 11 12]"
   ]
  },
  {
   "cell_type": "code",
   "execution_count": null,
   "metadata": {},
   "outputs": [
    {
     "ename": "AttributeError",
     "evalue": "'dict_values' object has no attribute 'tolist'",
     "output_type": "error",
     "traceback": [
      "\u001b[1;31m---------------------------------------------------------------------------\u001b[0m",
      "\u001b[1;31mAttributeError\u001b[0m                            Traceback (most recent call last)",
      "\u001b[1;32m~\\AppData\\Local\\Temp\\ipykernel_46492\\389098610.py\u001b[0m in \u001b[0;36m<module>\u001b[1;34m\u001b[0m\n\u001b[0;32m      1\u001b[0m \u001b[0ma\u001b[0m \u001b[1;33m=\u001b[0m \u001b[1;33m{\u001b[0m\u001b[1;36m1\u001b[0m\u001b[1;33m:\u001b[0m\u001b[1;36m2\u001b[0m\u001b[1;33m,\u001b[0m\u001b[1;36m2\u001b[0m\u001b[1;33m:\u001b[0m\u001b[1;36m3\u001b[0m\u001b[1;33m,\u001b[0m\u001b[1;36m3\u001b[0m\u001b[1;33m:\u001b[0m\u001b[1;36m4\u001b[0m\u001b[1;33m}\u001b[0m\u001b[1;33m\u001b[0m\u001b[1;33m\u001b[0m\u001b[0m\n\u001b[1;32m----> 2\u001b[1;33m \u001b[0mnp\u001b[0m\u001b[1;33m.\u001b[0m\u001b[0marray\u001b[0m\u001b[1;33m(\u001b[0m\u001b[0ma\u001b[0m\u001b[1;33m.\u001b[0m\u001b[0mvalues\u001b[0m\u001b[1;33m(\u001b[0m\u001b[1;33m)\u001b[0m\u001b[1;33m.\u001b[0m\u001b[0mtolist\u001b[0m\u001b[1;33m(\u001b[0m\u001b[1;33m)\u001b[0m\u001b[1;33m)\u001b[0m\u001b[1;33m\u001b[0m\u001b[1;33m\u001b[0m\u001b[0m\n\u001b[0m\u001b[0;32m      3\u001b[0m \u001b[1;31m#np.array(list(a.keys()))\u001b[0m\u001b[1;33m\u001b[0m\u001b[1;33m\u001b[0m\u001b[0m\n",
      "\u001b[1;31mAttributeError\u001b[0m: 'dict_values' object has no attribute 'tolist'"
     ]
    }
   ],
   "source": [
    "a = {1:2,2:3,3:4}\n",
    "np.array(a.values())[0]\n",
    "#np.array(list(a.keys()))"
   ]
  },
  {
   "cell_type": "code",
   "execution_count": 16,
   "metadata": {},
   "outputs": [
    {
     "name": "stdout",
     "output_type": "stream",
     "text": [
      "[0 1 2 3 4 5 6 7 8]\n",
      "Max flow: 60\n",
      "\n",
      " Arc    Flow / Capacity\n",
      "0 / 1    20  /  20\n",
      "0 / 2    30  /  30\n",
      "0 / 3    10  /  10\n",
      "1 / 2     0  /  40\n",
      "1 / 4    20  /  30\n",
      "2 / 3    10  /  10\n",
      "2 / 4    20  /  20\n",
      "3 / 2     0  /   5\n",
      "3 / 4    20  /  20\n",
      "Source side min-cut: [0]\n",
      "Sink side min-cut: [4, 1]\n",
      "[(0, 1), (0, 2), (0, 3)]\n"
     ]
    }
   ],
   "source": [
    "\"\"\"From Taha 'Introduction to Operations Research', example 6.4-2.\"\"\"\n",
    "import numpy as np\n",
    "\n",
    "from ortools.graph.python import max_flow\n",
    "\n",
    "\n",
    "def main():\n",
    "    \"\"\"MaxFlow simple interface example.\"\"\"\n",
    "    # Instantiate a SimpleMaxFlow solver.\n",
    "    smf = max_flow.SimpleMaxFlow()\n",
    "\n",
    "    # Define three parallel arrays: start_nodes, end_nodes, and the capacities\n",
    "    # between each pair. For instance, the arc from node 0 to node 1 has a\n",
    "    # capacity of 20.\n",
    "    a = [0, 0, 0, 1, 1, 2, 2, 3, 3]\n",
    "    b = [1, 2, 3, 2, 4, 3, 4, 2, 4]\n",
    "    child_nodes = { p:[] for p in a }\n",
    "    for i in range(len(a)):\n",
    "        child_nodes[a[i]].append(b[i])\n",
    "\n",
    "\n",
    "\n",
    "    start_nodes = np.array([0, 0, 0, 1, 1, 2, 2, 3, 3])\n",
    "    end_nodes = np.array([1, 2, 3, 2, 4, 3, 4, 2, 4])\n",
    "    capacities = np.array([20, 30, 10, 40, 30, 10, 20, 5, 20])\n",
    "    # Add arcs in bulk.\n",
    "    #   note: we could have used add_arc_with_capacity(start, end, capacity)\n",
    "    all_arcs = smf.add_arcs_with_capacity(start_nodes, end_nodes, capacities)\n",
    "    print(all_arcs)\n",
    "\n",
    "    # Set the source and sink nodes\n",
    "\n",
    "    smf.set_arcs_capacity(np.array(range(len(all_arcs))), capacities)\n",
    "    # Find the maximum flow between node 0 and node 4.\n",
    "    status = smf.solve(0, 4)\n",
    "\n",
    "    if status != smf.OPTIMAL:\n",
    "        print(\"There was an issue with the max flow input.\")\n",
    "        print(f\"Status: {status}\")\n",
    "        exit(1)\n",
    "    print(\"Max flow:\", smf.optimal_flow())\n",
    "    print(\"\")\n",
    "    print(\" Arc    Flow / Capacity\")\n",
    "    solution_flows = smf.flows(all_arcs)\n",
    "    for arc, flow, capacity in zip(all_arcs, solution_flows, capacities):\n",
    "        print(f\"{smf.tail(arc)} / {smf.head(arc)}   {flow:3}  / {capacity:3}\")\n",
    "    source_side = smf.get_source_side_min_cut()\n",
    "    sink_side = smf.get_sink_side_min_cut()\n",
    "    print(\"Source side min-cut:\", smf.get_source_side_min_cut())\n",
    "    print(\"Sink side min-cut:\", smf.get_sink_side_min_cut())\n",
    "    #注：一个最大流问题中，最小割可能有多个\n",
    "    #源点侧最小割 与 汇点侧最小割 可能不一样，也可能还存在别的最小割\n",
    "    #在残余网络中，如果源点侧的可达节点（残余网络中有正向边可达到，即原网络中flow<capacity) 与 可达汇点的节点 构成了全部节点\n",
    "    #此时最小割是唯一的，在我们的问题中，最小割是唯一的\n",
    "\n",
    "    reachable_nodes = source_side\n",
    "    #outgoing_arc = [ (u, child_nodes[u]) for u in reachable_nodes ]\n",
    "    #nonreachable_nodes = [range(smf.num_nodes)] \n",
    "    cut_edges_by_index = []\n",
    "    for u in reachable_nodes:\n",
    "        children = child_nodes[u]\n",
    "        for v in children:\n",
    "            if v not in reachable_nodes:\n",
    "                cut_edges_by_index.append((u,v))\n",
    "    print(cut_edges_by_index)\n",
    "\n",
    "        \n",
    "if __name__ == \"__main__\":\n",
    "    main()"
   ]
  },
  {
   "cell_type": "code",
   "execution_count": 22,
   "metadata": {},
   "outputs": [
    {
     "data": {
      "text/plain": [
       "array([0, 2, 3])"
      ]
     },
     "execution_count": 22,
     "metadata": {},
     "output_type": "execute_result"
    }
   ],
   "source": [
    "a = np.array([-0.111,2,3.3])\n",
    "a.astype('int32')"
   ]
  },
  {
   "cell_type": "code",
   "execution_count": 18,
   "metadata": {},
   "outputs": [
    {
     "name": "stdout",
     "output_type": "stream",
     "text": [
      "0 1\n",
      "1 2\n",
      "2 3\n"
     ]
    }
   ],
   "source": [
    "for index,element in enumerate([1,2,3]):\n",
    "    print(index,element)"
   ]
  },
  {
   "cell_type": "code",
   "execution_count": 123,
   "metadata": {},
   "outputs": [
    {
     "name": "stdout",
     "output_type": "stream",
     "text": [
      "1 2\n",
      "1 2\n"
     ]
    }
   ],
   "source": [
    "a = zip([1,1],[2,2])\n",
    "for (u,v) in a:\n",
    "    print(u,v)\n"
   ]
  },
  {
   "cell_type": "code",
   "execution_count": 107,
   "metadata": {},
   "outputs": [
    {
     "name": "stdout",
     "output_type": "stream",
     "text": [
      "9.11.4210\n"
     ]
    }
   ],
   "source": [
    "import ortools\n",
    "\n",
    "print(ortools.__version__)\n"
   ]
  },
  {
   "cell_type": "code",
   "execution_count": 100,
   "metadata": {},
   "outputs": [
    {
     "name": "stdout",
     "output_type": "stream",
     "text": [
      "最大流: 5\n",
      "最小割边集:\n"
     ]
    },
    {
     "ename": "TypeError",
     "evalue": "cannot unpack non-iterable int object",
     "output_type": "error",
     "traceback": [
      "\u001b[1;31m---------------------------------------------------------------------------\u001b[0m",
      "\u001b[1;31mTypeError\u001b[0m                                 Traceback (most recent call last)",
      "\u001b[1;32m~\\AppData\\Local\\Temp\\ipykernel_44596\\92126952.py\u001b[0m in \u001b[0;36m<module>\u001b[1;34m\u001b[0m\n\u001b[0;32m     30\u001b[0m \u001b[1;33m\u001b[0m\u001b[0m\n\u001b[0;32m     31\u001b[0m \u001b[1;32mif\u001b[0m \u001b[0m__name__\u001b[0m \u001b[1;33m==\u001b[0m \u001b[1;34m'__main__'\u001b[0m\u001b[1;33m:\u001b[0m\u001b[1;33m\u001b[0m\u001b[1;33m\u001b[0m\u001b[0m\n\u001b[1;32m---> 32\u001b[1;33m     \u001b[0mcompute_max_flow_and_min_cut\u001b[0m\u001b[1;33m(\u001b[0m\u001b[1;33m)\u001b[0m\u001b[1;33m\u001b[0m\u001b[1;33m\u001b[0m\u001b[0m\n\u001b[0m",
      "\u001b[1;32m~\\AppData\\Local\\Temp\\ipykernel_44596\\92126952.py\u001b[0m in \u001b[0;36mcompute_max_flow_and_min_cut\u001b[1;34m()\u001b[0m\n\u001b[0;32m     26\u001b[0m     \u001b[0mprint\u001b[0m\u001b[1;33m(\u001b[0m\u001b[1;34m'最小割边集:'\u001b[0m\u001b[1;33m)\u001b[0m\u001b[1;33m\u001b[0m\u001b[1;33m\u001b[0m\u001b[0m\n\u001b[0;32m     27\u001b[0m     \u001b[1;32mfor\u001b[0m \u001b[0medge\u001b[0m \u001b[1;32min\u001b[0m \u001b[0mmin_cut_edges\u001b[0m\u001b[1;33m:\u001b[0m\u001b[1;33m\u001b[0m\u001b[1;33m\u001b[0m\u001b[0m\n\u001b[1;32m---> 28\u001b[1;33m         \u001b[0mu\u001b[0m\u001b[1;33m,\u001b[0m \u001b[0mv\u001b[0m \u001b[1;33m=\u001b[0m \u001b[0medge\u001b[0m\u001b[1;33m\u001b[0m\u001b[1;33m\u001b[0m\u001b[0m\n\u001b[0m\u001b[0;32m     29\u001b[0m         \u001b[0mprint\u001b[0m\u001b[1;33m(\u001b[0m\u001b[1;34mf'边 ({u} -> {v})'\u001b[0m\u001b[1;33m)\u001b[0m\u001b[1;33m\u001b[0m\u001b[1;33m\u001b[0m\u001b[0m\n\u001b[0;32m     30\u001b[0m \u001b[1;33m\u001b[0m\u001b[0m\n",
      "\u001b[1;31mTypeError\u001b[0m: cannot unpack non-iterable int object"
     ]
    }
   ],
   "source": [
    "from ortools.graph.python import max_flow\n",
    "\n",
    "def compute_max_flow_and_min_cut():\n",
    "    # 创建最大流图实例\n",
    "    graph = max_flow.SimpleMaxFlow()\n",
    "\n",
    "    # 添加边 (源点, 目标点, 容量)\n",
    "    graph.add_arc_with_capacity(0, 1, 3)  # 从 0 到 1，容量 3\n",
    "    graph.add_arc_with_capacity(0, 2, 4)  # 从 0 到 2，容量 4\n",
    "    graph.add_arc_with_capacity(1, 3, 3)  # 从 1 到 3，容量 3\n",
    "    graph.add_arc_with_capacity(2, 3, 2)  # 从 2 到 3，容量 2\n",
    "    graph.add_arc_with_capacity(1, 2, 1)  # 从 1 到 2，容量 1\n",
    "\n",
    "    # 求解最大流\n",
    "    status = graph.solve(0, 3)\n",
    "    if status != graph.OPTIMAL:\n",
    "        print('无法计算最大流。')\n",
    "        return\n",
    "\n",
    "    print(f'最大流: {graph.optimal_flow()}')\n",
    "\n",
    "    # 获取源点侧的最小割\n",
    "    min_cut_edges = graph.get_source_side_min_cut()\n",
    "\n",
    "    # 打印最小割边\n",
    "    print('最小割边集:')\n",
    "    for edge in min_cut_edges:\n",
    "        u, v = edge\n",
    "        print(f'边 ({u} -> {v})')\n",
    "\n",
    "if __name__ == '__main__':\n",
    "    compute_max_flow_and_min_cut()"
   ]
  },
  {
   "cell_type": "code",
   "execution_count": 87,
   "metadata": {},
   "outputs": [
    {
     "data": {
      "text/plain": [
       "array(['a', '4', '1', '2'], dtype='<U11')"
      ]
     },
     "execution_count": 87,
     "metadata": {},
     "output_type": "execute_result"
    }
   ],
   "source": [
    "import numpy as np\n",
    "\n",
    "arc_from_souce = [('a','b'),('4','9')]\n",
    "start_nodes = np.array([])\n",
    "end_nodes = np.array([])\n",
    "capacities = np.array([])\n",
    "\n",
    "start, end = zip(*arc_from_souce)\n",
    "start_nodes= np.append(start,[1,2])\n",
    "\n",
    "start_nodes\n",
    "            "
   ]
  },
  {
   "cell_type": "code",
   "execution_count": 93,
   "metadata": {},
   "outputs": [
    {
     "data": {
      "text/plain": [
       "[1, 1, 1, 1, 1, 1, 1, 1, 1, 1, 1, 1, 1, 1, 1, 1, 1, 1, 1, 1, 1, 1, 1]"
      ]
     },
     "execution_count": 93,
     "metadata": {},
     "output_type": "execute_result"
    }
   ],
   "source": [
    "[1]*23\n"
   ]
  },
  {
   "cell_type": "code",
   "execution_count": null,
   "metadata": {},
   "outputs": [
    {
     "ename": "AttributeError",
     "evalue": "'set' object has no attribute 'tolist'",
     "output_type": "error",
     "traceback": [
      "\u001b[1;31m---------------------------------------------------------------------------\u001b[0m",
      "\u001b[1;31mAttributeError\u001b[0m                            Traceback (most recent call last)",
      "\u001b[1;32m~\\AppData\\Local\\Temp\\ipykernel_44596\\3692892824.py\u001b[0m in \u001b[0;36m<module>\u001b[1;34m\u001b[0m\n\u001b[1;32m----> 1\u001b[1;33m \u001b[0ma\u001b[0m \u001b[1;33m=\u001b[0m \u001b[0mset\u001b[0m\u001b[1;33m(\u001b[0m\u001b[1;33m{\u001b[0m\u001b[1;36m1\u001b[0m\u001b[1;33m,\u001b[0m\u001b[1;36m2\u001b[0m\u001b[1;33m}\u001b[0m\u001b[1;33m)\u001b[0m\u001b[1;33m.\u001b[0m\u001b[0mtolist\u001b[0m\u001b[1;33m(\u001b[0m\u001b[1;33m)\u001b[0m\u001b[1;33m\u001b[0m\u001b[1;33m\u001b[0m\u001b[0m\n\u001b[0m",
      "\u001b[1;31mAttributeError\u001b[0m: 'set' object has no attribute 'tolist'"
     ]
    }
   ],
   "source": [
    "a = set({1,2})"
   ]
  },
  {
   "cell_type": "code",
   "execution_count": 33,
   "metadata": {},
   "outputs": [
    {
     "data": {
      "text/plain": [
       "2"
      ]
     },
     "execution_count": 33,
     "metadata": {},
     "output_type": "execute_result"
    }
   ],
   "source": [
    "import numpy as np\n",
    "a = np.array([4,5,6,6,6,5])\n",
    "np.argmax(a)\n"
   ]
  },
  {
   "cell_type": "code",
   "execution_count": 13,
   "metadata": {},
   "outputs": [
    {
     "name": "stdout",
     "output_type": "stream",
     "text": [
      "[5 5 4 4 5 5]\n",
      "[5 5 5 5 5 5]\n"
     ]
    }
   ],
   "source": [
    "import numpy as np\n",
    "def take_off_cpu(t,_consuming_cpu):\n",
    "\n",
    "    _take_off_cpu = _consuming_cpu.copy()\n",
    "    _take_off_cpu[t:t+2] -= 1\n",
    "    return _take_off_cpu  #得到取下task_id后的曲线\n",
    "\n",
    "def put_on_cpu(t,_consuming_cpu): \n",
    "    _put_on_cpu = _consuming_cpu.copy()\n",
    "    _put_on_cpu[t:t+2] += 1\n",
    "    return _put_on_cpu   #得到在t点添加task_id后的曲线，长度为1440\n",
    "\n",
    "t=2\n",
    "a = np.array([5,5,5,5,5,5])\n",
    "b = take_off_cpu(t,a)\n",
    "print(b)\n",
    "a = put_on_cpu(t,b)\n",
    "print(a)"
   ]
  },
  {
   "cell_type": "code",
   "execution_count": 16,
   "metadata": {},
   "outputs": [
    {
     "data": {
      "text/plain": [
       "3269017.3724721107"
      ]
     },
     "execution_count": 16,
     "metadata": {},
     "output_type": "execute_result"
    }
   ],
   "source": [
    "import numpy as np\n",
    "\n",
    "np.exp(15)"
   ]
  },
  {
   "cell_type": "code",
   "execution_count": null,
   "metadata": {},
   "outputs": [],
   "source": []
  },
  {
   "cell_type": "code",
   "execution_count": 10,
   "metadata": {},
   "outputs": [
    {
     "data": {
      "text/plain": [
       "[('b', 2), ('a', 1)]"
      ]
     },
     "execution_count": 10,
     "metadata": {},
     "output_type": "execute_result"
    }
   ],
   "source": [
    "task_list = []\n",
    "layer_node_weight = {'a':1,'b':2}\n",
    "sorted_nodes = sorted(layer_node_weight, key = lambda x: layer_node_weight[x], reverse = True) #按照权重从大到小,返回一个排序\n",
    "task_list.extend(sorted_nodes)\n",
    "task_list"
   ]
  },
  {
   "cell_type": "code",
   "execution_count": 50,
   "metadata": {},
   "outputs": [
    {
     "data": {
      "text/plain": [
       "array([0, 3], dtype=int64)"
      ]
     },
     "execution_count": 50,
     "metadata": {},
     "output_type": "execute_result"
    }
   ],
   "source": [
    "import numpy as np\n",
    "a = np.array([2,-1,-4,9])\n",
    "b = np.where(a>0)[0]\n",
    "b"
   ]
  },
  {
   "cell_type": "code",
   "execution_count": 44,
   "metadata": {},
   "outputs": [
    {
     "data": {
      "text/plain": [
       "array([1, 2, 5, 4, 4, 7])"
      ]
     },
     "execution_count": 44,
     "metadata": {},
     "output_type": "execute_result"
    }
   ],
   "source": [
    "import numpy as np\n",
    "a = np.array([1,2,5,5,5,7])\n",
    "b = a.copy()\n",
    "b[3:5]-=1\n",
    "b"
   ]
  },
  {
   "cell_type": "code",
   "execution_count": null,
   "metadata": {},
   "outputs": [
    {
     "data": {
      "text/plain": [
       "{1: {'ES': 1,\n",
       "  'EF': 1,\n",
       "  'LS': 1,\n",
       "  'LF': 1,\n",
       "  '_ES': 1,\n",
       "  '_EF': 1,\n",
       "  '_LS': 1,\n",
       "  '_LF': 1,\n",
       "  '__ES': 1,\n",
       "  '__EF': 1,\n",
       "  '__LS': 1,\n",
       "  '__LF': 1},\n",
       " 2: {'ES': 1,\n",
       "  'EF': 1,\n",
       "  'LS': 1,\n",
       "  'LF': 1,\n",
       "  '_ES': 1,\n",
       "  '_EF': 1,\n",
       "  '_LS': 1,\n",
       "  '_LF': 1,\n",
       "  '__ES': 1,\n",
       "  '__EF': 1,\n",
       "  '__LS': 1,\n",
       "  '__LF': 1}}"
      ]
     },
     "execution_count": 39,
     "metadata": {},
     "output_type": "execute_result"
    }
   ],
   "source": []
  },
  {
   "cell_type": "code",
   "execution_count": 26,
   "metadata": {},
   "outputs": [
    {
     "data": {
      "text/plain": [
       "InEdgeDataView([('1', '3'), ('2', '3')])"
      ]
     },
     "execution_count": 26,
     "metadata": {},
     "output_type": "execute_result"
    }
   ],
   "source": [
    "import networkx as nx\n",
    "relation_arc  =  set()\n",
    "relation_arc.update([('1','2'),('2','3'),('1','3')])\n",
    "\n",
    "graph = nx.DiGraph() # 创建一个有向图\n",
    "graph.add_edges_from(relation_arc) # 添加有向边\n",
    "graph.in_edges('3')"
   ]
  },
  {
   "cell_type": "code",
   "execution_count": 20,
   "metadata": {},
   "outputs": [
    {
     "name": "stdout",
     "output_type": "stream",
     "text": [
      "{('1', '2'), ('2', '3')}\n",
      "1\n",
      "2\n",
      "2\n",
      "3\n"
     ]
    },
    {
     "data": {
      "text/plain": [
       "OutEdgeDataView([])"
      ]
     },
     "execution_count": 20,
     "metadata": {},
     "output_type": "execute_result"
    }
   ],
   "source": [
    "import numpy as np\n",
    "import networkx as nx\n",
    "\n",
    "relation_arc  =  set()\n",
    "relation_arc.update([('1','2'),('2','3'),('1','3')])\n",
    "\n",
    "graph = nx.DiGraph() # 创建一个有向图\n",
    "graph.add_edges_from(relation_arc) # 添加有向边\n",
    "graph = nx.transitive_reduction(graph) #计算传递闭包,得到约简后的dag\n",
    "\n",
    "relation_arc_new = set(graph.edges)  #得到约简后的依赖关系列表 [(task_1,task_2),(task_3,task_4),...]\n",
    "relation_num_new = len(relation_arc_new) #更新关系数量\n",
    "print(relation_arc_new)\n",
    "for (a,b) in relation_arc_new:\n",
    "    print(a)\n",
    "    print(b)\n",
    "in_degree_map = dict(graph.in_degree())\n",
    "in_degree_map\n",
    "ancestor_tasks = nx.ancestors(graph,'3') #返回祖先集合\n",
    "ancestor_tasks\n",
    "\n"
   ]
  },
  {
   "cell_type": "code",
   "execution_count": null,
   "metadata": {},
   "outputs": [],
   "source": [
    "    def sharding2min(self,sharding_data,sharding_time): #将分片数据转换为分钟数据，接受分片数据和分段情况两个数据\n",
    "        min_data = np.zeros(1440)\n",
    "        for i in range(len(sharding_time)): #对每一个时段\n",
    "            s = sharding_time[i][0]\n",
    "            e = sharding_time[i][1]\n",
    "            if type(s) == list: # 如果s是一个列表，那么sharding_time[i]对应的这个时段是跨天的，s = sharding_time[i][0] 选取的其实是前一天的时段\n",
    "                for s_in,e_in in sharding_time[i]:\n",
    "                    min_data[s_in : e_in + 1] = sharding_data[i] #np.array[a:b] 左闭右开\n",
    "            else:\n",
    "                min_data[s:e+1] = sharding_data[i]\n",
    "        return min_data"
   ]
  },
  {
   "cell_type": "code",
   "execution_count": 64,
   "metadata": {},
   "outputs": [
    {
     "data": {
      "text/plain": [
       "[[0, 1439], [0, 1439]]"
      ]
     },
     "execution_count": 64,
     "metadata": {},
     "output_type": "execute_result"
    }
   ],
   "source": [
    "import numpy as np\n",
    "[[0,1439] for h in range(2)]"
   ]
  },
  {
   "cell_type": "code",
   "execution_count": 86,
   "metadata": {},
   "outputs": [
    {
     "data": {
      "text/plain": [
       "array([1, 4])"
      ]
     },
     "execution_count": 86,
     "metadata": {},
     "output_type": "execute_result"
    }
   ],
   "source": [
    "import numpy as np\n",
    "a = np.array([1,2])\n",
    "b = np.array([1,2])\n",
    "+a++*b"
   ]
  },
  {
   "cell_type": "code",
   "execution_count": 14,
   "metadata": {},
   "outputs": [
    {
     "name": "stdout",
     "output_type": "stream",
     "text": [
      "{1, 2, 3}\n"
     ]
    },
    {
     "data": {
      "text/plain": [
       "{1, 2, 3, '4', '5'}"
      ]
     },
     "execution_count": 14,
     "metadata": {},
     "output_type": "execute_result"
    }
   ],
   "source": [
    "import networkx as nx\n",
    "\n",
    "# 创建一个有向图\n",
    "G = nx.DiGraph()\n",
    "G.add_edges_from([(1, 2), (2, 3), (3, 4)])\n",
    "\n",
    "# 找出节点 4 的所有祖先节点\n",
    "ancestors_of_4 = nx.ancestors(G, 4)\n",
    "print(ancestors_of_4)  # 输出：{1, 2, 3}\n",
    "\n",
    "a = ancestors_of_4.union('45')\n",
    "a\n"
   ]
  },
  {
   "cell_type": "code",
   "execution_count": 146,
   "metadata": {},
   "outputs": [
    {
     "data": {
      "image/png": "[encoded data removed]",
      "text/plain": [
       "<Figure size 640x480 with 1 Axes>"
      ]
     },
     "metadata": {},
     "output_type": "display_data"
    }
   ],
   "source": [
    "import matplotlib.pyplot as plt\n",
    "G = nx.DiGraph()\n",
    "task_data = {'111':{'run_time':1,'bg':0,'ddl':8},\n",
    "             '222':{'run_time':2,'bg':3,'ddl':8},\n",
    "             '333':{'run_time':3,'bg':0,'ddl':8}}\n",
    "arc = set([('111','222'),('222','333'),('111','333')])\n",
    "for task in task_data:\n",
    "    G.add_node(task,duration = task_data[task]['run_time'])\n",
    "    \n",
    "G.add_edges_from(arc)\n",
    "#G = nx.transitive_reduction(G)\n",
    "nx.draw_networkx(G)\n",
    "plt.show()"
   ]
  },
  {
   "cell_type": "code",
   "execution_count": 108,
   "metadata": {},
   "outputs": [
    {
     "name": "stdout",
     "output_type": "stream",
     "text": [
      "\n",
      " node 111\n",
      "duration 1\n",
      "pred_es []\n",
      "pred_ef []\n",
      "\n",
      " node 222\n",
      "duration 2\n",
      "pred_es [0]\n",
      "pred_ef [0]\n",
      "\n",
      " node 333\n",
      "duration 3\n",
      "pred_es [3]\n",
      "pred_ef [4]\n",
      "es {'111': 0, '222': 3, '333': 5}\n",
      "ef {'111': 0, '222': 4, '333': 7}\n",
      "ls {'111': 3, '222': 4, '333': 6}\n",
      "lf {'111': 3, '222': 5, '333': 8}\n",
      "0.0040035247802734375\n"
     ]
    }
   ],
   "source": [
    "import networkx as nx\n",
    "import time\n",
    "G = nx.DiGraph()\n",
    "task_data = {'111':{'run_time':1,'bg':0,'ddl':8},\n",
    "             '222':{'run_time':2,'bg':3,'ddl':8},\n",
    "             '333':{'run_time':3,'bg':0,'ddl':8}}\n",
    "arc = set([('111','222'),('222','333')])\n",
    "for task in task_data:\n",
    "    G.add_node(task,duration = task_data[task]['run_time'])\n",
    "G.add_edges_from(arc)\n",
    "\n",
    "start= time.time()\n",
    "es = {}\n",
    "ef = {}\n",
    "\n",
    "for task in task_data:\n",
    "    es[task] = task_data[task]['bg']\n",
    "    ef[task] = task_data[task]['bg'] + task_data[task]['run_time'] - 1\n",
    "\n",
    "for node in list(nx.topological_sort(G)):\n",
    "    node_duration = G.nodes[node]['duration']\n",
    "    print('\\n node',node)\n",
    "    print('duration',node_duration)\n",
    "    pred_es = [es[pred] for pred in list(G.predecessors(node))]\n",
    "    print('pred_es',pred_es)\n",
    "    pred_ef = [ef[pred] for pred in list(G.predecessors(node))]\n",
    "    print('pred_ef',pred_ef)\n",
    "\n",
    "    if G.in_degree(node) == 0:\n",
    "        None\n",
    "    else:\n",
    "        es_deu2_pred = max(pred_ef) + 1\n",
    "        es[node] = max(es_deu2_pred, es[node])\n",
    "    ef[node] = es[node] + node_duration - 1\n",
    "\n",
    "print('es',es)\n",
    "print('ef',ef)\n",
    "\n",
    "ls={}\n",
    "lf={}\n",
    "\n",
    "for task in task_data:\n",
    "    ls[task] = task_data[task]['ddl'] - task_data[task]['run_time'] + 1\n",
    "    lf[task] = task_data[task]['ddl']\n",
    "\n",
    "for node in reversed(list(nx.topological_sort(G))):\n",
    "    node_duration = G.nodes[node]['duration']\n",
    "    succs_ls = [ls[succs] for succs in list(G.successors(node))]\n",
    "    succs_lf = [lf[succs] for succs in list(G.successors(node))]\n",
    "\n",
    "    if G.out_degree(node) == 0:\n",
    "        None\n",
    "    else:\n",
    "        lf_deu2_succs = min(succs_ls) - 1\n",
    "        lf[node] = min(lf_deu2_succs, lf[node])\n",
    "    ls[node] = lf[node] - node_duration + 1\n",
    "print('ls',ls)\n",
    "print('lf',lf)\n",
    "\n",
    "\n",
    "print(time.time()-start)"
   ]
  },
  {
   "cell_type": "code",
   "execution_count": 133,
   "metadata": {},
   "outputs": [
    {
     "name": "stdout",
     "output_type": "stream",
     "text": [
      "es {'111': 0, '222': 3, '333': 5}\n",
      "ef {'111': 0, '222': 4, '333': 7}\n",
      "ls {'111': 3, '222': 4, '333': 6}\n",
      "lf {'333': 8, '222': 5, '111': 3}\n",
      "0.002996206283569336\n"
     ]
    }
   ],
   "source": [
    "start = time.time()\n",
    "\n",
    "task_data = {'111':{'run_time':1,'bg':0,'ddl':8},\n",
    "             '222':{'run_time':2,'bg':3,'ddl':8},\n",
    "             '333':{'run_time':3,'bg':0,'ddl':8}}\n",
    "arc = set([('111','222'),('222','333')])\n",
    "for task in task_data:\n",
    "    G.add_node(task,duration = task_data[task]['run_time'])\n",
    "G.add_edges_from(arc)\n",
    "\n",
    "es={}\n",
    "ef={}\n",
    "es = {task :task_data[task]['bg'] for task in task_data}\n",
    "\n",
    "for node in list(nx.topological_sort(G)):\n",
    "    #if G.in_degree(node) == 0:\n",
    "    #    continue\n",
    "    pred_es = [es[pred] + task_data[pred]['run_time'] for pred in list(G.predecessors(node))]\n",
    "    es_due2_pred = max(pred_es,default=es[node])\n",
    "    es[node] = max(es_due2_pred,es[node])\n",
    "    ef[node] = es[node] + task_data[node]['run_time'] - 1 \n",
    "\n",
    "ls={}\n",
    "lf={}\n",
    "ls = {task :task_data[task]['ddl']- task_data[task]['run_time'] +1 for task in task_data}\n",
    "\n",
    "for node in reversed(list(nx.topological_sort(G))):\n",
    "    #if G.in_degree(node) == 0:\n",
    "    #    continue\n",
    "    succs_ls = [ls[succ] - task_data[node]['run_time'] for succ in list(G.successors(node))]\n",
    "    ls_due2_succs = min(succs_ls,default=ls[node])\n",
    "    ls[node] = min(ls_due2_succs,ls[node])\n",
    "    lf[node] = ls[node] + task_data[node]['run_time'] - 1 \n",
    "\n",
    "\n",
    "\n",
    "print('es',es)\n",
    "print('ef',ef)\n",
    "print('ls',ls)\n",
    "print('lf',lf)\n",
    "\n",
    "\n",
    "print(time.time()-start)"
   ]
  }
 ],
 "metadata": {
  "kernelspec": {
   "display_name": "base",
   "language": "python",
   "name": "python3"
  },
  "language_info": {
   "codemirror_mode": {
    "name": "ipython",
    "version": 3
   },
   "file_extension": ".py",
   "mimetype": "text/x-python",
   "name": "python",
   "nbconvert_exporter": "python",
   "pygments_lexer": "ipython3",
   "version": "3.9.12"
  }
 },
 "nbformat": 4,
 "nbformat_minor": 2
}
